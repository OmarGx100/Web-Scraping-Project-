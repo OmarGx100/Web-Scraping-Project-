{
 "cells": [
  {
   "cell_type": "code",
   "execution_count": 2,
   "metadata": {},
   "outputs": [],
   "source": [
    "import requests\n",
    "from bs4 import BeautifulSoup\n",
    "import csv"
   ]
  },
  {
   "cell_type": "code",
   "execution_count": 3,
   "metadata": {},
   "outputs": [],
   "source": [
    "#saving the url link in url variable\n",
    "url = \"https://books.toscrape.com/catalogue/category/books/mystery_3/index.html\""
   ]
  },
  {
   "cell_type": "code",
   "execution_count": 4,
   "metadata": {},
   "outputs": [],
   "source": [
    "#get response of the api of the browser \n",
    "response = requests.get(url)"
   ]
  },
  {
   "cell_type": "code",
   "execution_count": 10,
   "metadata": {},
   "outputs": [],
   "source": [
    "#using the Beautifulsoup function to create a soup object \n",
    "soup = BeautifulSoup(response.text,'html.parser')\n",
    "#soup.text\n",
    "#print(soup.prettify())"
   ]
  },
  {
   "cell_type": "code",
   "execution_count": 19,
   "metadata": {},
   "outputs": [],
   "source": [
    "all_artical = soup.find_all('article',attrs='product_pod')\n",
    "#print(1 if all_artical[0].find('p',class_='star-rating').attrs['class'][1] == 'Four' else 0)\n",
    "book_name = []\n",
    "book_price =[]\n",
    "book_rating = []\n",
    "for i in all_artical :\n",
    "    book_name.append(i.find('h3').find('a').attrs['title'])\n",
    "    book_price.append(float(i.find('p',attrs={'class':'price_color'}).get_text()[2:]))\n",
    "    if i.find('p',class_='star-rating').attrs['class'][1] == 'Five':\n",
    "        book_rating.append(5)\n",
    "    if i.find('p',class_='star-rating').attrs['class'][1] == 'Four':\n",
    "        book_rating.append(4)\n",
    "    elif i.find('p',class_='star-rating').attrs['class'][1] == 'Three':\n",
    "        book_rating.append(3)\n",
    "    elif i.find('p',class_='star-rating').attrs['class'][1] == 'Two':\n",
    "        book_rating.append(2)\n",
    "    elif i.find('p',class_='star-rating').attrs['class'][1] == 'One':\n",
    "        book_rating.append(1)\n",
    "# print(book_name)\n",
    "# print(book_price)\n",
    "# print(len(book_rating))\n",
    "\n"
   ]
  },
  {
   "cell_type": "code",
   "execution_count": 18,
   "metadata": {},
   "outputs": [],
   "source": [
    "with open('scraping_project.csv','w',newline = '',encoding = 'utf8') as csv :\n",
    "    csv.write('Book Name,Book Price,Book Rating\\n')\n",
    "    for i in range(len(book_name)):\n",
    "        row = f\"{book_name[i]},{book_price[i]},{book_rating[i]}\\n\"\n",
    "        csv.write(row)\n",
    "        "
   ]
  }
 ],
 "metadata": {
  "kernelspec": {
   "display_name": "Python 3",
   "language": "python",
   "name": "python3"
  },
  "language_info": {
   "codemirror_mode": {
    "name": "ipython",
    "version": 3
   },
   "file_extension": ".py",
   "mimetype": "text/x-python",
   "name": "python",
   "nbconvert_exporter": "python",
   "pygments_lexer": "ipython3",
   "version": "3.9.1"
  },
  "orig_nbformat": 4
 },
 "nbformat": 4,
 "nbformat_minor": 2
}
